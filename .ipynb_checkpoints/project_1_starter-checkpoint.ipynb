{
 "cells": [
  {
   "cell_type": "markdown",
   "metadata": {},
   "source": [
    "# Project 1: Trading with Momentum\n",
    "## Instructions\n",
    "Each problem consists of a function to implement and instructions on how to implement the function.  The parts of the function that need to be implemented are marked with a `# TODO` comment. After implementing the function, run the cell to test it against the unit tests we've provided. For each problem, we provide one or more unit tests from our `project_tests` package. These unit tests won't tell you if your answer is correct, but will warn you of any major errors. Your code will be checked for the correct solution when you submit it to Udacity.\n",
    "\n",
    "## Packages\n",
    "When you implement the functions, you'll only need to you use the packages you've used in the classroom, like [Pandas](https://pandas.pydata.org/) and [Numpy](http://www.numpy.org/). These packages will be imported for you. We recommend you don't add any import statements, otherwise the grader might not be able to run your code.\n",
    "\n",
    "The other packages that we're importing are `helper`, `project_helper`, and `project_tests`. These are custom packages built to help you solve the problems.  The `helper` and `project_helper` module contains utility functions and graph functions. The `project_tests` contains the unit tests for all the problems.\n",
    "\n",
    "### Install Packages"
   ]
  },
  {
   "cell_type": "code",
   "execution_count": 1,
   "metadata": {},
   "outputs": [
    {
     "name": "stdout",
     "output_type": "stream",
     "text": [
      "Requirement already satisfied: colour==0.1.5 in /Users/wilsonchan/opt/anaconda3/envs/ait/lib/python3.6/site-packages (from -r requirements.txt (line 1)) (0.1.5)\n",
      "Requirement already satisfied: cycler==0.10.0 in /Users/wilsonchan/opt/anaconda3/envs/ait/lib/python3.6/site-packages (from -r requirements.txt (line 2)) (0.10.0)\n",
      "Requirement already satisfied: numpy==1.13.3 in /Users/wilsonchan/opt/anaconda3/envs/ait/lib/python3.6/site-packages (from -r requirements.txt (line 3)) (1.13.3)\n",
      "Requirement already satisfied: pandas==0.21.1 in /Users/wilsonchan/opt/anaconda3/envs/ait/lib/python3.6/site-packages (from -r requirements.txt (line 4)) (0.21.1)\n",
      "Requirement already satisfied: plotly==4.9.0 in /Users/wilsonchan/opt/anaconda3/envs/ait/lib/python3.6/site-packages (from -r requirements.txt (line 5)) (4.9.0)\n",
      "Requirement already satisfied: pyparsing==2.2.0 in /Users/wilsonchan/opt/anaconda3/envs/ait/lib/python3.6/site-packages (from -r requirements.txt (line 6)) (2.2.0)\n",
      "Requirement already satisfied: python-dateutil==2.6.1 in /Users/wilsonchan/opt/anaconda3/envs/ait/lib/python3.6/site-packages (from -r requirements.txt (line 7)) (2.6.1)\n",
      "Requirement already satisfied: pytz==2017.3 in /Users/wilsonchan/opt/anaconda3/envs/ait/lib/python3.6/site-packages (from -r requirements.txt (line 8)) (2017.3)\n",
      "Requirement already satisfied: requests==2.18.4 in /Users/wilsonchan/opt/anaconda3/envs/ait/lib/python3.6/site-packages (from -r requirements.txt (line 9)) (2.18.4)\n",
      "Requirement already satisfied: scipy==1.0.0 in /Users/wilsonchan/opt/anaconda3/envs/ait/lib/python3.6/site-packages (from -r requirements.txt (line 10)) (1.0.0)\n",
      "Requirement already satisfied: scikit-learn==0.19.1 in /Users/wilsonchan/opt/anaconda3/envs/ait/lib/python3.6/site-packages (from -r requirements.txt (line 11)) (0.19.1)\n",
      "Requirement already satisfied: six==1.11.0 in /Users/wilsonchan/opt/anaconda3/envs/ait/lib/python3.6/site-packages (from -r requirements.txt (line 12)) (1.11.0)\n",
      "Requirement already satisfied: tqdm==4.19.5 in /Users/wilsonchan/opt/anaconda3/envs/ait/lib/python3.6/site-packages (from -r requirements.txt (line 13)) (4.19.5)\n",
      "Requirement already satisfied: retrying>=1.3.3 in /Users/wilsonchan/opt/anaconda3/envs/ait/lib/python3.6/site-packages (from plotly==4.9.0->-r requirements.txt (line 5)) (1.3.3)\n",
      "Requirement already satisfied: chardet<3.1.0,>=3.0.2 in /Users/wilsonchan/opt/anaconda3/envs/ait/lib/python3.6/site-packages (from requests==2.18.4->-r requirements.txt (line 9)) (3.0.4)\n",
      "Requirement already satisfied: idna<2.7,>=2.5 in /Users/wilsonchan/opt/anaconda3/envs/ait/lib/python3.6/site-packages (from requests==2.18.4->-r requirements.txt (line 9)) (2.6)\n",
      "Requirement already satisfied: urllib3<1.23,>=1.21.1 in /Users/wilsonchan/opt/anaconda3/envs/ait/lib/python3.6/site-packages (from requests==2.18.4->-r requirements.txt (line 9)) (1.22)\n",
      "Requirement already satisfied: certifi>=2017.4.17 in /Users/wilsonchan/opt/anaconda3/envs/ait/lib/python3.6/site-packages (from requests==2.18.4->-r requirements.txt (line 9)) (2020.6.20)\n"
     ]
    }
   ],
   "source": [
    "import sys\n",
    "!{sys.executable} -m pip install -r requirements.txt"
   ]
  },
  {
   "cell_type": "markdown",
   "metadata": {},
   "source": [
    "### Load Packages"
   ]
  },
  {
   "cell_type": "code",
   "execution_count": 2,
   "metadata": {},
   "outputs": [
    {
     "data": {
      "text/html": [
       "        <script type=\"text/javascript\">\n",
       "        window.PlotlyConfig = {MathJaxConfig: 'local'};\n",
       "        if (window.MathJax) {MathJax.Hub.Config({SVG: {font: \"STIX-Web\"}});}\n",
       "        if (typeof require !== 'undefined') {\n",
       "        require.undef(\"plotly\");\n",
       "        requirejs.config({\n",
       "            paths: {\n",
       "                'plotly': ['https://cdn.plot.ly/plotly-latest.min']\n",
       "            }\n",
       "        });\n",
       "        require(['plotly'], function(Plotly) {\n",
       "            window._Plotly = Plotly;\n",
       "        });\n",
       "        }\n",
       "        </script>\n",
       "        "
      ]
     },
     "metadata": {},
     "output_type": "display_data"
    }
   ],
   "source": [
    "import pandas as pd\n",
    "import numpy as np\n",
    "import helper\n",
    "import project_helper\n",
    "import project_tests"
   ]
  },
  {
   "cell_type": "markdown",
   "metadata": {},
   "source": [
    "## Market Data\n",
    "### Load Data\n",
    "The data we use for most of the projects is end of day data. This contains data for many stocks, but we'll be looking at stocks in the S&P 500. We also made things a little easier to run by narrowing down our range of time period instead of using all of the data."
   ]
  },
  {
   "cell_type": "code",
   "execution_count": 16,
   "metadata": {},
   "outputs": [
    {
     "data": {
      "text/html": [
       "<div>\n",
       "<style scoped>\n",
       "    .dataframe tbody tr th:only-of-type {\n",
       "        vertical-align: middle;\n",
       "    }\n",
       "\n",
       "    .dataframe tbody tr th {\n",
       "        vertical-align: top;\n",
       "    }\n",
       "\n",
       "    .dataframe thead th {\n",
       "        text-align: right;\n",
       "    }\n",
       "</style>\n",
       "<table border=\"1\" class=\"dataframe\">\n",
       "  <thead>\n",
       "    <tr style=\"text-align: right;\">\n",
       "      <th></th>\n",
       "      <th>date</th>\n",
       "      <th>ticker</th>\n",
       "      <th>adj_close</th>\n",
       "    </tr>\n",
       "  </thead>\n",
       "  <tbody>\n",
       "    <tr>\n",
       "      <th>0</th>\n",
       "      <td>2013-07-01</td>\n",
       "      <td>A</td>\n",
       "      <td>29.99418563</td>\n",
       "    </tr>\n",
       "    <tr>\n",
       "      <th>1</th>\n",
       "      <td>2013-07-02</td>\n",
       "      <td>A</td>\n",
       "      <td>29.65013670</td>\n",
       "    </tr>\n",
       "    <tr>\n",
       "      <th>2</th>\n",
       "      <td>2013-07-03</td>\n",
       "      <td>A</td>\n",
       "      <td>29.70518453</td>\n",
       "    </tr>\n",
       "    <tr>\n",
       "      <th>3</th>\n",
       "      <td>2013-07-05</td>\n",
       "      <td>A</td>\n",
       "      <td>30.43456826</td>\n",
       "    </tr>\n",
       "    <tr>\n",
       "      <th>4</th>\n",
       "      <td>2013-07-08</td>\n",
       "      <td>A</td>\n",
       "      <td>30.52402098</td>\n",
       "    </tr>\n",
       "  </tbody>\n",
       "</table>\n",
       "</div>"
      ],
      "text/plain": [
       "        date ticker   adj_close\n",
       "0 2013-07-01      A 29.99418563\n",
       "1 2013-07-02      A 29.65013670\n",
       "2 2013-07-03      A 29.70518453\n",
       "3 2013-07-05      A 30.43456826\n",
       "4 2013-07-08      A 30.52402098"
      ]
     },
     "metadata": {},
     "output_type": "display_data"
    },
    {
     "data": {
      "text/html": [
       "<div>\n",
       "<style scoped>\n",
       "    .dataframe tbody tr th:only-of-type {\n",
       "        vertical-align: middle;\n",
       "    }\n",
       "\n",
       "    .dataframe tbody tr th {\n",
       "        vertical-align: top;\n",
       "    }\n",
       "\n",
       "    .dataframe thead th {\n",
       "        text-align: right;\n",
       "    }\n",
       "</style>\n",
       "<table border=\"1\" class=\"dataframe\">\n",
       "  <thead>\n",
       "    <tr style=\"text-align: right;\">\n",
       "      <th>ticker</th>\n",
       "      <th>A</th>\n",
       "      <th>AAL</th>\n",
       "      <th>AAP</th>\n",
       "      <th>AAPL</th>\n",
       "      <th>ABBV</th>\n",
       "      <th>ABC</th>\n",
       "      <th>ABT</th>\n",
       "      <th>ACN</th>\n",
       "      <th>ADBE</th>\n",
       "      <th>ADI</th>\n",
       "      <th>...</th>\n",
       "      <th>XL</th>\n",
       "      <th>XLNX</th>\n",
       "      <th>XOM</th>\n",
       "      <th>XRAY</th>\n",
       "      <th>XRX</th>\n",
       "      <th>XYL</th>\n",
       "      <th>YUM</th>\n",
       "      <th>ZBH</th>\n",
       "      <th>ZION</th>\n",
       "      <th>ZTS</th>\n",
       "    </tr>\n",
       "    <tr>\n",
       "      <th>date</th>\n",
       "      <th></th>\n",
       "      <th></th>\n",
       "      <th></th>\n",
       "      <th></th>\n",
       "      <th></th>\n",
       "      <th></th>\n",
       "      <th></th>\n",
       "      <th></th>\n",
       "      <th></th>\n",
       "      <th></th>\n",
       "      <th></th>\n",
       "      <th></th>\n",
       "      <th></th>\n",
       "      <th></th>\n",
       "      <th></th>\n",
       "      <th></th>\n",
       "      <th></th>\n",
       "      <th></th>\n",
       "      <th></th>\n",
       "      <th></th>\n",
       "      <th></th>\n",
       "    </tr>\n",
       "  </thead>\n",
       "  <tbody>\n",
       "    <tr>\n",
       "      <th>2013-07-01</th>\n",
       "      <td>29.99418563</td>\n",
       "      <td>16.17609308</td>\n",
       "      <td>81.13821681</td>\n",
       "      <td>53.10917319</td>\n",
       "      <td>34.92447839</td>\n",
       "      <td>50.86319750</td>\n",
       "      <td>31.42538772</td>\n",
       "      <td>64.69409505</td>\n",
       "      <td>46.23500000</td>\n",
       "      <td>39.91336014</td>\n",
       "      <td>...</td>\n",
       "      <td>27.66879066</td>\n",
       "      <td>35.28892781</td>\n",
       "      <td>76.32080247</td>\n",
       "      <td>40.02387348</td>\n",
       "      <td>22.10666494</td>\n",
       "      <td>25.75338607</td>\n",
       "      <td>45.48038323</td>\n",
       "      <td>71.89882693</td>\n",
       "      <td>27.85858718</td>\n",
       "      <td>29.44789315</td>\n",
       "    </tr>\n",
       "    <tr>\n",
       "      <th>2013-07-02</th>\n",
       "      <td>29.65013670</td>\n",
       "      <td>15.81983388</td>\n",
       "      <td>80.72207258</td>\n",
       "      <td>54.31224742</td>\n",
       "      <td>35.42807578</td>\n",
       "      <td>50.69676639</td>\n",
       "      <td>31.27288084</td>\n",
       "      <td>64.71204071</td>\n",
       "      <td>46.03000000</td>\n",
       "      <td>39.86057632</td>\n",
       "      <td>...</td>\n",
       "      <td>27.54228410</td>\n",
       "      <td>35.05903252</td>\n",
       "      <td>76.60816761</td>\n",
       "      <td>39.96552964</td>\n",
       "      <td>22.08273998</td>\n",
       "      <td>25.61367511</td>\n",
       "      <td>45.40266113</td>\n",
       "      <td>72.93417195</td>\n",
       "      <td>28.03893238</td>\n",
       "      <td>28.57244125</td>\n",
       "    </tr>\n",
       "    <tr>\n",
       "      <th>2013-07-03</th>\n",
       "      <td>29.70518453</td>\n",
       "      <td>16.12794994</td>\n",
       "      <td>81.23729877</td>\n",
       "      <td>54.61204262</td>\n",
       "      <td>35.44486235</td>\n",
       "      <td>50.93716689</td>\n",
       "      <td>30.72565028</td>\n",
       "      <td>65.21451912</td>\n",
       "      <td>46.42000000</td>\n",
       "      <td>40.18607651</td>\n",
       "      <td>...</td>\n",
       "      <td>27.33445191</td>\n",
       "      <td>35.28008569</td>\n",
       "      <td>76.65042719</td>\n",
       "      <td>40.00442554</td>\n",
       "      <td>22.20236479</td>\n",
       "      <td>25.73475794</td>\n",
       "      <td>46.06329899</td>\n",
       "      <td>72.30145844</td>\n",
       "      <td>28.18131017</td>\n",
       "      <td>28.16838652</td>\n",
       "    </tr>\n",
       "    <tr>\n",
       "      <th>2013-07-05</th>\n",
       "      <td>30.43456826</td>\n",
       "      <td>16.21460758</td>\n",
       "      <td>81.82188233</td>\n",
       "      <td>54.17338125</td>\n",
       "      <td>35.85613355</td>\n",
       "      <td>51.37173702</td>\n",
       "      <td>31.32670680</td>\n",
       "      <td>66.07591068</td>\n",
       "      <td>47.00000000</td>\n",
       "      <td>40.65233352</td>\n",
       "      <td>...</td>\n",
       "      <td>27.69589920</td>\n",
       "      <td>35.80177117</td>\n",
       "      <td>77.39419581</td>\n",
       "      <td>40.67537968</td>\n",
       "      <td>22.58516418</td>\n",
       "      <td>26.06075017</td>\n",
       "      <td>46.41304845</td>\n",
       "      <td>73.16424628</td>\n",
       "      <td>29.39626730</td>\n",
       "      <td>29.02459772</td>\n",
       "    </tr>\n",
       "    <tr>\n",
       "      <th>2013-07-08</th>\n",
       "      <td>30.52402098</td>\n",
       "      <td>16.31089385</td>\n",
       "      <td>82.95141667</td>\n",
       "      <td>53.86579916</td>\n",
       "      <td>36.66188936</td>\n",
       "      <td>52.03746147</td>\n",
       "      <td>31.76628544</td>\n",
       "      <td>66.82065546</td>\n",
       "      <td>46.62500000</td>\n",
       "      <td>40.25645492</td>\n",
       "      <td>...</td>\n",
       "      <td>27.98505704</td>\n",
       "      <td>35.20050655</td>\n",
       "      <td>77.96892611</td>\n",
       "      <td>40.64620776</td>\n",
       "      <td>22.48946433</td>\n",
       "      <td>26.22840332</td>\n",
       "      <td>46.95062632</td>\n",
       "      <td>73.89282298</td>\n",
       "      <td>29.57661249</td>\n",
       "      <td>29.76536472</td>\n",
       "    </tr>\n",
       "  </tbody>\n",
       "</table>\n",
       "<p>5 rows × 495 columns</p>\n",
       "</div>"
      ],
      "text/plain": [
       "ticker               A         AAL         AAP        AAPL        ABBV  \\\n",
       "date                                                                     \n",
       "2013-07-01 29.99418563 16.17609308 81.13821681 53.10917319 34.92447839   \n",
       "2013-07-02 29.65013670 15.81983388 80.72207258 54.31224742 35.42807578   \n",
       "2013-07-03 29.70518453 16.12794994 81.23729877 54.61204262 35.44486235   \n",
       "2013-07-05 30.43456826 16.21460758 81.82188233 54.17338125 35.85613355   \n",
       "2013-07-08 30.52402098 16.31089385 82.95141667 53.86579916 36.66188936   \n",
       "\n",
       "ticker             ABC         ABT         ACN        ADBE         ADI  \\\n",
       "date                                                                     \n",
       "2013-07-01 50.86319750 31.42538772 64.69409505 46.23500000 39.91336014   \n",
       "2013-07-02 50.69676639 31.27288084 64.71204071 46.03000000 39.86057632   \n",
       "2013-07-03 50.93716689 30.72565028 65.21451912 46.42000000 40.18607651   \n",
       "2013-07-05 51.37173702 31.32670680 66.07591068 47.00000000 40.65233352   \n",
       "2013-07-08 52.03746147 31.76628544 66.82065546 46.62500000 40.25645492   \n",
       "\n",
       "ticker         ...              XL        XLNX         XOM        XRAY  \\\n",
       "date           ...                                                       \n",
       "2013-07-01     ...     27.66879066 35.28892781 76.32080247 40.02387348   \n",
       "2013-07-02     ...     27.54228410 35.05903252 76.60816761 39.96552964   \n",
       "2013-07-03     ...     27.33445191 35.28008569 76.65042719 40.00442554   \n",
       "2013-07-05     ...     27.69589920 35.80177117 77.39419581 40.67537968   \n",
       "2013-07-08     ...     27.98505704 35.20050655 77.96892611 40.64620776   \n",
       "\n",
       "ticker             XRX         XYL         YUM         ZBH        ZION  \\\n",
       "date                                                                     \n",
       "2013-07-01 22.10666494 25.75338607 45.48038323 71.89882693 27.85858718   \n",
       "2013-07-02 22.08273998 25.61367511 45.40266113 72.93417195 28.03893238   \n",
       "2013-07-03 22.20236479 25.73475794 46.06329899 72.30145844 28.18131017   \n",
       "2013-07-05 22.58516418 26.06075017 46.41304845 73.16424628 29.39626730   \n",
       "2013-07-08 22.48946433 26.22840332 46.95062632 73.89282298 29.57661249   \n",
       "\n",
       "ticker             ZTS  \n",
       "date                    \n",
       "2013-07-01 29.44789315  \n",
       "2013-07-02 28.57244125  \n",
       "2013-07-03 28.16838652  \n",
       "2013-07-05 29.02459772  \n",
       "2013-07-08 29.76536472  \n",
       "\n",
       "[5 rows x 495 columns]"
      ]
     },
     "metadata": {},
     "output_type": "display_data"
    },
    {
     "name": "stdout",
     "output_type": "stream",
     "text": [
      "Data Loaded!\n"
     ]
    }
   ],
   "source": [
    "df = pd.read_csv('eod-quotemedia.csv', parse_dates=['date'], index_col=False)\n",
    "\n",
    "close = df.reset_index().pivot(index='date', columns='ticker', values='adj_close')\n",
    "\n",
    "display(df.head(5))\n",
    "display(close.head(5))\n",
    "print('Data Loaded!')"
   ]
  },
  {
   "cell_type": "markdown",
   "metadata": {},
   "source": [
    "### View Data\n",
    "Run the cell below to see what the data looks like for `close`."
   ]
  },
  {
   "cell_type": "code",
   "execution_count": 18,
   "metadata": {
    "scrolled": true
   },
   "outputs": [
    {
     "ename": "ValueError",
     "evalue": "Mime type rendering requires nbformat>=4.2.0 but it is not installed",
     "output_type": "error",
     "traceback": [
      "\u001b[0;31m---------------------------------------------------------------------------\u001b[0m",
      "\u001b[0;31mValueError\u001b[0m                                Traceback (most recent call last)",
      "\u001b[0;32m<ipython-input-18-38528e5326b4>\u001b[0m in \u001b[0;36m<module>\u001b[0;34m\u001b[0m\n\u001b[0;32m----> 1\u001b[0;31m \u001b[0mproject_helper\u001b[0m\u001b[0;34m.\u001b[0m\u001b[0mprint_dataframe\u001b[0m\u001b[0;34m(\u001b[0m\u001b[0mclose\u001b[0m\u001b[0;34m)\u001b[0m\u001b[0;34m\u001b[0m\u001b[0;34m\u001b[0m\u001b[0m\n\u001b[0m",
      "\u001b[0;32m~/Documents/9. AI for Trading/Project 1 - Trading with Momentum/project_helper.py\u001b[0m in \u001b[0;36mprint_dataframe\u001b[0;34m(df, n_rows, n_columns)\u001b[0m\n\u001b[1;32m     62\u001b[0m             'font': {'size': 13}})\n\u001b[1;32m     63\u001b[0m \u001b[0;34m\u001b[0m\u001b[0m\n\u001b[0;32m---> 64\u001b[0;31m     \u001b[0moffline_py\u001b[0m\u001b[0;34m.\u001b[0m\u001b[0miplot\u001b[0m\u001b[0;34m(\u001b[0m\u001b[0;34m[\u001b[0m\u001b[0mtrace\u001b[0m\u001b[0;34m]\u001b[0m\u001b[0;34m,\u001b[0m \u001b[0mconfig\u001b[0m\u001b[0;34m=\u001b[0m\u001b[0mconfig\u001b[0m\u001b[0;34m,\u001b[0m \u001b[0mconnected\u001b[0m\u001b[0;34m=\u001b[0m\u001b[0;32mFalse\u001b[0m\u001b[0;34m)\u001b[0m\u001b[0;34m\u001b[0m\u001b[0;34m\u001b[0m\u001b[0m\n\u001b[0m\u001b[1;32m     65\u001b[0m \u001b[0;34m\u001b[0m\u001b[0m\n\u001b[1;32m     66\u001b[0m \u001b[0;34m\u001b[0m\u001b[0m\n",
      "\u001b[0;32m~/opt/anaconda3/envs/ait/lib/python3.6/site-packages/plotly/offline/offline.py\u001b[0m in \u001b[0;36miplot\u001b[0;34m(figure_or_data, show_link, link_text, validate, image, filename, image_width, image_height, config, auto_play, animation_opts)\u001b[0m\n\u001b[1;32m    396\u001b[0m         \u001b[0mauto_play\u001b[0m\u001b[0;34m=\u001b[0m\u001b[0mauto_play\u001b[0m\u001b[0;34m,\u001b[0m\u001b[0;34m\u001b[0m\u001b[0;34m\u001b[0m\u001b[0m\n\u001b[1;32m    397\u001b[0m         \u001b[0mpost_script\u001b[0m\u001b[0;34m=\u001b[0m\u001b[0mpost_script\u001b[0m\u001b[0;34m,\u001b[0m\u001b[0;34m\u001b[0m\u001b[0;34m\u001b[0m\u001b[0m\n\u001b[0;32m--> 398\u001b[0;31m         \u001b[0manimation_opts\u001b[0m\u001b[0;34m=\u001b[0m\u001b[0manimation_opts\u001b[0m\u001b[0;34m,\u001b[0m\u001b[0;34m\u001b[0m\u001b[0;34m\u001b[0m\u001b[0m\n\u001b[0m\u001b[1;32m    399\u001b[0m     )\n\u001b[1;32m    400\u001b[0m \u001b[0;34m\u001b[0m\u001b[0m\n",
      "\u001b[0;32m~/opt/anaconda3/envs/ait/lib/python3.6/site-packages/plotly/io/_renderers.py\u001b[0m in \u001b[0;36mshow\u001b[0;34m(fig, renderer, validate, **kwargs)\u001b[0m\n\u001b[1;32m    384\u001b[0m         \u001b[0;32mif\u001b[0m \u001b[0;32mnot\u001b[0m \u001b[0mnbformat\u001b[0m \u001b[0;32mor\u001b[0m \u001b[0mLooseVersion\u001b[0m\u001b[0;34m(\u001b[0m\u001b[0mnbformat\u001b[0m\u001b[0;34m.\u001b[0m\u001b[0m__version__\u001b[0m\u001b[0;34m)\u001b[0m \u001b[0;34m<\u001b[0m \u001b[0mLooseVersion\u001b[0m\u001b[0;34m(\u001b[0m\u001b[0;34m\"4.2.0\"\u001b[0m\u001b[0;34m)\u001b[0m\u001b[0;34m:\u001b[0m\u001b[0;34m\u001b[0m\u001b[0;34m\u001b[0m\u001b[0m\n\u001b[1;32m    385\u001b[0m             raise ValueError(\n\u001b[0;32m--> 386\u001b[0;31m                 \u001b[0;34m\"Mime type rendering requires nbformat>=4.2.0 but it is not installed\"\u001b[0m\u001b[0;34m\u001b[0m\u001b[0;34m\u001b[0m\u001b[0m\n\u001b[0m\u001b[1;32m    387\u001b[0m             )\n\u001b[1;32m    388\u001b[0m \u001b[0;34m\u001b[0m\u001b[0m\n",
      "\u001b[0;31mValueError\u001b[0m: Mime type rendering requires nbformat>=4.2.0 but it is not installed"
     ]
    }
   ],
   "source": [
    "project_helper.print_dataframe(close)"
   ]
  },
  {
   "cell_type": "markdown",
   "metadata": {},
   "source": [
    "### Stock Example\n",
    "Let's see what a single stock looks like from the closing prices. For this example and future display examples in this project, we'll use Apple's stock (AAPL). If we tried to graph all the stocks, it would be too much information."
   ]
  },
  {
   "cell_type": "code",
   "execution_count": null,
   "metadata": {},
   "outputs": [],
   "source": [
    "apple_ticker = 'AAPL'\n",
    "project_helper.plot_stock(close[apple_ticker], '{} Stock'.format(apple_ticker))"
   ]
  },
  {
   "cell_type": "markdown",
   "metadata": {},
   "source": [
    "## Resample Adjusted Prices\n",
    "\n",
    "The trading signal you'll develop in this project does not need to be based on daily prices, for instance, you can use month-end prices to perform trading once a month. To do this, you must first resample the daily adjusted closing prices into monthly buckets, and select the last observation of each month.\n",
    "\n",
    "Implement the `resample_prices` to resample `close_prices` at the sampling frequency of `freq`."
   ]
  },
  {
   "cell_type": "code",
   "execution_count": null,
   "metadata": {},
   "outputs": [],
   "source": [
    "def resample_prices(close_prices, freq='M'):\n",
    "    \"\"\"\n",
    "    Resample close prices for each ticker at specified frequency.\n",
    "    \n",
    "    Parameters\n",
    "    ----------\n",
    "    close_prices : DataFrame\n",
    "        Close prices for each ticker and date\n",
    "    freq : str\n",
    "        What frequency to sample at\n",
    "        For valid freq choices, see http://pandas.pydata.org/pandas-docs/stable/timeseries.html#offset-aliases\n",
    "    \n",
    "    Returns\n",
    "    -------\n",
    "    prices_resampled : DataFrame\n",
    "        Resampled prices for each ticker and date\n",
    "    \"\"\"\n",
    "    # TODO: Implement Function\n",
    "    \n",
    "    return None\n",
    "\n",
    "project_tests.test_resample_prices(resample_prices)"
   ]
  },
  {
   "cell_type": "markdown",
   "metadata": {},
   "source": [
    "### View Data\n",
    "Let's apply this function to `close` and view the results."
   ]
  },
  {
   "cell_type": "code",
   "execution_count": null,
   "metadata": {},
   "outputs": [],
   "source": [
    "monthly_close = resample_prices(close)\n",
    "project_helper.plot_resampled_prices(\n",
    "    monthly_close.loc[:, apple_ticker],\n",
    "    close.loc[:, apple_ticker],\n",
    "    '{} Stock - Close Vs Monthly Close'.format(apple_ticker))"
   ]
  },
  {
   "cell_type": "markdown",
   "metadata": {},
   "source": [
    "## Compute Log Returns\n",
    "\n",
    "Compute log returns ($R_t$) from prices ($P_t$) as your primary momentum indicator:\n",
    "\n",
    "$$R_t = log_e(P_t) - log_e(P_{t-1})$$\n",
    "\n",
    "Implement the `compute_log_returns` function below, such that it accepts a dataframe (like one returned by `resample_prices`), and produces a similar dataframe of log returns. Use Numpy's [log function](https://docs.scipy.org/doc/numpy/reference/generated/numpy.log.html) to help you calculate the log returns."
   ]
  },
  {
   "cell_type": "code",
   "execution_count": null,
   "metadata": {},
   "outputs": [],
   "source": [
    "def compute_log_returns(prices):\n",
    "    \"\"\"\n",
    "    Compute log returns for each ticker.\n",
    "    \n",
    "    Parameters\n",
    "    ----------\n",
    "    prices : DataFrame\n",
    "        Prices for each ticker and date\n",
    "    \n",
    "    Returns\n",
    "    -------\n",
    "    log_returns : DataFrame\n",
    "        Log returns for each ticker and date\n",
    "    \"\"\"\n",
    "    # TODO: Implement Function\n",
    "    \n",
    "    return None\n",
    "\n",
    "project_tests.test_compute_log_returns(compute_log_returns)"
   ]
  },
  {
   "cell_type": "markdown",
   "metadata": {},
   "source": [
    "### View Data\n",
    "Using the same data returned from `resample_prices`, we'll generate the log returns."
   ]
  },
  {
   "cell_type": "code",
   "execution_count": null,
   "metadata": {},
   "outputs": [],
   "source": [
    "monthly_close_returns = compute_log_returns(monthly_close)\n",
    "project_helper.plot_returns(\n",
    "    monthly_close_returns.loc[:, apple_ticker],\n",
    "    'Log Returns of {} Stock (Monthly)'.format(apple_ticker))"
   ]
  },
  {
   "cell_type": "markdown",
   "metadata": {},
   "source": [
    "## Shift Returns\n",
    "Implement the `shift_returns` function to shift the log returns to the previous or future returns in the time series. For example, the parameter `shift_n` is 2 and `returns` is the following:\n",
    "\n",
    "```\n",
    "                           Returns\n",
    "               A         B         C         D\n",
    "2013-07-08     0.015     0.082     0.096     0.020     ...\n",
    "2013-07-09     0.037     0.095     0.027     0.063     ...\n",
    "2013-07-10     0.094     0.001     0.093     0.019     ...\n",
    "2013-07-11     0.092     0.057     0.069     0.087     ...\n",
    "...            ...       ...       ...       ...\n",
    "```\n",
    "\n",
    "the output of the `shift_returns` function would be:\n",
    "```\n",
    "                        Shift Returns\n",
    "               A         B         C         D\n",
    "2013-07-08     NaN       NaN       NaN       NaN       ...\n",
    "2013-07-09     NaN       NaN       NaN       NaN       ...\n",
    "2013-07-10     0.015     0.082     0.096     0.020     ...\n",
    "2013-07-11     0.037     0.095     0.027     0.063     ...\n",
    "...            ...       ...       ...       ...\n",
    "```\n",
    "Using the same `returns` data as above, the `shift_returns` function should generate the following with `shift_n` as -2:\n",
    "```\n",
    "                        Shift Returns\n",
    "               A         B         C         D\n",
    "2013-07-08     0.094     0.001     0.093     0.019     ...\n",
    "2013-07-09     0.092     0.057     0.069     0.087     ...\n",
    "...            ...       ...       ...       ...       ...\n",
    "...            ...       ...       ...       ...       ...\n",
    "...            NaN       NaN       NaN       NaN       ...\n",
    "...            NaN       NaN       NaN       NaN       ...\n",
    "```\n",
    "_Note: The \"...\" represents data points we're not showing._"
   ]
  },
  {
   "cell_type": "code",
   "execution_count": null,
   "metadata": {},
   "outputs": [],
   "source": [
    "def shift_returns(returns, shift_n):\n",
    "    \"\"\"\n",
    "    Generate shifted returns\n",
    "    \n",
    "    Parameters\n",
    "    ----------\n",
    "    returns : DataFrame\n",
    "        Returns for each ticker and date\n",
    "    shift_n : int\n",
    "        Number of periods to move, can be positive or negative\n",
    "    \n",
    "    Returns\n",
    "    -------\n",
    "    shifted_returns : DataFrame\n",
    "        Shifted returns for each ticker and date\n",
    "    \"\"\"\n",
    "    # TODO: Implement Function\n",
    "    \n",
    "    return None\n",
    "\n",
    "project_tests.test_shift_returns(shift_returns)"
   ]
  },
  {
   "cell_type": "markdown",
   "metadata": {},
   "source": [
    "### View Data\n",
    "Let's get the previous month's and next month's returns."
   ]
  },
  {
   "cell_type": "code",
   "execution_count": null,
   "metadata": {},
   "outputs": [],
   "source": [
    "prev_returns = shift_returns(monthly_close_returns, 1)\n",
    "lookahead_returns = shift_returns(monthly_close_returns, -1)\n",
    "\n",
    "project_helper.plot_shifted_returns(\n",
    "    prev_returns.loc[:, apple_ticker],\n",
    "    monthly_close_returns.loc[:, apple_ticker],\n",
    "    'Previous Returns of {} Stock'.format(apple_ticker))\n",
    "project_helper.plot_shifted_returns(\n",
    "    lookahead_returns.loc[:, apple_ticker],\n",
    "    monthly_close_returns.loc[:, apple_ticker],\n",
    "    'Lookahead Returns of {} Stock'.format(apple_ticker))"
   ]
  },
  {
   "cell_type": "markdown",
   "metadata": {},
   "source": [
    "## Generate Trading Signal\n",
    "\n",
    "A trading signal is a sequence of trading actions, or results that can be used to take trading actions. A common form is to produce a \"long\" and \"short\" portfolio of stocks on each date (e.g. end of each month, or whatever frequency you desire to trade at). This signal can be interpreted as rebalancing your portfolio on each of those dates, entering long (\"buy\") and short (\"sell\") positions as indicated.\n",
    "\n",
    "Here's a strategy that we will try:\n",
    "> For each month-end observation period, rank the stocks by _previous_ returns, from the highest to the lowest. Select the top performing stocks for the long portfolio, and the bottom performing stocks for the short portfolio.\n",
    "\n",
    "Implement the `get_top_n` function to get the top performing stock for each month. Get the top performing stocks from `prev_returns` by assigning them a value of 1. For all other stocks, give them a value of 0. For example, using the following `prev_returns`:\n",
    "\n",
    "```\n",
    "                                     Previous Returns\n",
    "               A         B         C         D         E         F         G\n",
    "2013-07-08     0.015     0.082     0.096     0.020     0.075     0.043     0.074\n",
    "2013-07-09     0.037     0.095     0.027     0.063     0.024     0.086     0.025\n",
    "...            ...       ...       ...       ...       ...       ...       ...\n",
    "```\n",
    "\n",
    "The function `get_top_n` with `top_n` set to 3 should return the following:\n",
    "```\n",
    "                                     Previous Returns\n",
    "               A         B         C         D         E         F         G\n",
    "2013-07-08     0         1         1         0         1         0         0\n",
    "2013-07-09     0         1         0         1         0         1         0\n",
    "...            ...       ...       ...       ...       ...       ...       ...\n",
    "```\n",
    "*Note: You may have to use Panda's [`DataFrame.iterrows`](https://pandas.pydata.org/pandas-docs/version/0.21/generated/pandas.DataFrame.iterrows.html) with [`Series.nlargest`](https://pandas.pydata.org/pandas-docs/version/0.21/generated/pandas.Series.nlargest.html) in order to implement the function. This is one of those cases where creating a vecorization solution is too difficult.*"
   ]
  },
  {
   "cell_type": "code",
   "execution_count": null,
   "metadata": {
    "scrolled": true
   },
   "outputs": [],
   "source": [
    "def get_top_n(prev_returns, top_n):\n",
    "    \"\"\"\n",
    "    Select the top performing stocks\n",
    "    \n",
    "    Parameters\n",
    "    ----------\n",
    "    prev_returns : DataFrame\n",
    "        Previous shifted returns for each ticker and date\n",
    "    top_n : int\n",
    "        The number of top performing stocks to get\n",
    "    \n",
    "    Returns\n",
    "    -------\n",
    "    top_stocks : DataFrame\n",
    "        Top stocks for each ticker and date marked with a 1\n",
    "    \"\"\"\n",
    "    # TODO: Implement Function\n",
    "    \n",
    "    return None\n",
    "\n",
    "project_tests.test_get_top_n(get_top_n)"
   ]
  },
  {
   "cell_type": "markdown",
   "metadata": {},
   "source": [
    "### View Data\n",
    "We want to get the best performing and worst performing stocks. To get the best performing stocks, we'll use the `get_top_n` function. To get the worst performing stocks, we'll also use the `get_top_n` function. However, we pass in `-1*prev_returns` instead of just `prev_returns`. Multiplying by negative one will flip all the positive returns to negative and negative returns to positive. Thus, it will return the worst performing stocks."
   ]
  },
  {
   "cell_type": "code",
   "execution_count": null,
   "metadata": {},
   "outputs": [],
   "source": [
    "top_bottom_n = 50\n",
    "df_long = get_top_n(prev_returns, top_bottom_n)\n",
    "df_short = get_top_n(-1*prev_returns, top_bottom_n)\n",
    "project_helper.print_top(df_long, 'Longed Stocks')\n",
    "project_helper.print_top(df_short, 'Shorted Stocks')"
   ]
  },
  {
   "cell_type": "markdown",
   "metadata": {},
   "source": [
    "## Projected Returns\n",
    "It's now time to check if your trading signal has the potential to become profitable!\n",
    "\n",
    "We'll start by computing the net returns this portfolio would return. For simplicity, we'll assume every stock gets an equal dollar amount of investment. This makes it easier to compute a portfolio's returns as the simple arithmetic average of the individual stock returns.\n",
    "\n",
    "Implement the `portfolio_returns` function to compute the expected portfolio returns. Using `df_long` to indicate which stocks to long and `df_short` to indicate which stocks to short, calculate the returns using `lookahead_returns`. To help with calculation, we've provided you with `n_stocks` as the number of stocks we're investing in a single period."
   ]
  },
  {
   "cell_type": "code",
   "execution_count": null,
   "metadata": {},
   "outputs": [],
   "source": [
    "def portfolio_returns(df_long, df_short, lookahead_returns, n_stocks):\n",
    "    \"\"\"\n",
    "    Compute expected returns for the portfolio, assuming equal investment in each long/short stock.\n",
    "    \n",
    "    Parameters\n",
    "    ----------\n",
    "    df_long : DataFrame\n",
    "        Top stocks for each ticker and date marked with a 1\n",
    "    df_short : DataFrame\n",
    "        Bottom stocks for each ticker and date marked with a 1\n",
    "    lookahead_returns : DataFrame\n",
    "        Lookahead returns for each ticker and date\n",
    "    n_stocks: int\n",
    "        The number number of stocks chosen for each month\n",
    "    \n",
    "    Returns\n",
    "    -------\n",
    "    portfolio_returns : DataFrame\n",
    "        Expected portfolio returns for each ticker and date\n",
    "    \"\"\"\n",
    "    # TODO: Implement Function\n",
    "    \n",
    "    return None\n",
    "\n",
    "project_tests.test_portfolio_returns(portfolio_returns)"
   ]
  },
  {
   "cell_type": "markdown",
   "metadata": {},
   "source": [
    "### View Data\n",
    "Time to see how the portfolio did."
   ]
  },
  {
   "cell_type": "code",
   "execution_count": null,
   "metadata": {},
   "outputs": [],
   "source": [
    "expected_portfolio_returns = portfolio_returns(df_long, df_short, lookahead_returns, 2*top_bottom_n)\n",
    "project_helper.plot_returns(expected_portfolio_returns.T.sum(), 'Portfolio Returns')"
   ]
  },
  {
   "cell_type": "markdown",
   "metadata": {},
   "source": [
    "## Statistical Tests\n",
    "### Annualized Rate of Return"
   ]
  },
  {
   "cell_type": "code",
   "execution_count": null,
   "metadata": {},
   "outputs": [],
   "source": [
    "expected_portfolio_returns_by_date = expected_portfolio_returns.T.sum().dropna()\n",
    "portfolio_ret_mean = expected_portfolio_returns_by_date.mean()\n",
    "portfolio_ret_ste = expected_portfolio_returns_by_date.sem()\n",
    "portfolio_ret_annual_rate = (np.exp(portfolio_ret_mean * 12) - 1) * 100\n",
    "\n",
    "print(\"\"\"\n",
    "Mean:                       {:.6f}\n",
    "Standard Error:             {:.6f}\n",
    "Annualized Rate of Return:  {:.2f}%\n",
    "\"\"\".format(portfolio_ret_mean, portfolio_ret_ste, portfolio_ret_annual_rate))"
   ]
  },
  {
   "cell_type": "markdown",
   "metadata": {},
   "source": [
    "The annualized rate of return allows you to compare the rate of return from this strategy to other quoted rates of return, which are usually quoted on an annual basis. \n",
    "\n",
    "### T-Test\n",
    "Our null hypothesis ($H_0$) is that the actual mean return from the signal is zero. We'll perform a one-sample, one-sided t-test on the observed mean return, to see if we can reject $H_0$.\n",
    "\n",
    "We'll need to first compute the t-statistic, and then find its corresponding p-value. The p-value will indicate the probability of observing a t-statistic equally or more extreme than the one we observed if the null hypothesis were true. A small p-value means that the chance of observing the t-statistic we observed under the null hypothesis is small, and thus casts doubt on the null hypothesis. It's good practice to set a desired level of significance or alpha ($\\alpha$) _before_ computing the p-value, and then reject the null hypothesis if $p < \\alpha$.\n",
    "\n",
    "For this project, we'll use $\\alpha = 0.05$, since it's a common value to use.\n",
    "\n",
    "Implement the `analyze_alpha` function to perform a t-test on the sample of portfolio returns. We've imported the `scipy.stats` module for you to perform the t-test.\n",
    "\n",
    "Note: [`scipy.stats.ttest_1samp`](https://docs.scipy.org/doc/scipy-1.0.0/reference/generated/scipy.stats.ttest_1samp.html) performs a two-sided test, so divide the p-value by 2 to get 1-sided p-value"
   ]
  },
  {
   "cell_type": "code",
   "execution_count": null,
   "metadata": {},
   "outputs": [],
   "source": [
    "from scipy import stats\n",
    "\n",
    "def analyze_alpha(expected_portfolio_returns_by_date):\n",
    "    \"\"\"\n",
    "    Perform a t-test with the null hypothesis being that the expected mean return is zero.\n",
    "    \n",
    "    Parameters\n",
    "    ----------\n",
    "    expected_portfolio_returns_by_date : Pandas Series\n",
    "        Expected portfolio returns for each date\n",
    "    \n",
    "    Returns\n",
    "    -------\n",
    "    t_value\n",
    "        T-statistic from t-test\n",
    "    p_value\n",
    "        Corresponding p-value\n",
    "    \"\"\"\n",
    "    # TODO: Implement Function\n",
    "\n",
    "    return None\n",
    "\n",
    "project_tests.test_analyze_alpha(analyze_alpha)"
   ]
  },
  {
   "cell_type": "markdown",
   "metadata": {},
   "source": [
    "### View Data\n",
    "Let's see what values we get with our portfolio. After you run this, make sure to answer the question below."
   ]
  },
  {
   "cell_type": "code",
   "execution_count": null,
   "metadata": {},
   "outputs": [],
   "source": [
    "t_value, p_value = analyze_alpha(expected_portfolio_returns_by_date)\n",
    "print(\"\"\"\n",
    "Alpha analysis:\n",
    " t-value:        {:.3f}\n",
    " p-value:        {:.6f}\n",
    "\"\"\".format(t_value, p_value))"
   ]
  },
  {
   "cell_type": "markdown",
   "metadata": {},
   "source": [
    "### Question: What p-value did you observe? And what does that indicate about your signal?"
   ]
  },
  {
   "cell_type": "markdown",
   "metadata": {},
   "source": [
    "*#TODO: Put Answer In this Cell*"
   ]
  },
  {
   "cell_type": "markdown",
   "metadata": {},
   "source": [
    "## Submission\n",
    "Now that you're done with the project, it's time to submit it. Click the submit button in the bottom right. One of our reviewers will give you feedback on your project with a pass or not passed grade. You can continue to the next section while you wait for feedback."
   ]
  }
 ],
 "metadata": {
  "kernelspec": {
   "display_name": "ait",
   "language": "python",
   "name": "ait"
  },
  "language_info": {
   "codemirror_mode": {
    "name": "ipython",
    "version": 3
   },
   "file_extension": ".py",
   "mimetype": "text/x-python",
   "name": "python",
   "nbconvert_exporter": "python",
   "pygments_lexer": "ipython3",
   "version": "3.6.10"
  }
 },
 "nbformat": 4,
 "nbformat_minor": 4
}
